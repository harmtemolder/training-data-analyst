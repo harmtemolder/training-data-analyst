{
 "cells": [
  {
   "cell_type": "markdown",
   "metadata": {},
   "source": [
    "<h1> Getting started with TensorFlow </h1>\n",
    "\n",
    "In this notebook, you play around with the TensorFlow Python API."
   ]
  },
  {
   "cell_type": "code",
   "execution_count": null,
   "metadata": {},
   "outputs": [],
   "source": [
    "import tensorflow as tf\n",
    "import numpy as np\n",
    "\n",
    "print(tf.__version__)"
   ]
  },
  {
   "cell_type": "markdown",
   "metadata": {},
   "source": [
    "<h2> Adding two tensors </h2>\n",
    "\n",
    "First, let's try doing this using numpy, the Python numeric package. numpy code is immediately evaluated."
   ]
  },
  {
   "cell_type": "code",
   "execution_count": null,
   "metadata": {},
   "outputs": [],
   "source": [
    "a = np.array([5, 3, 8])\n",
    "b = np.array([3, -1, 2])\n",
    "c = np.add(a, b)\n",
    "print(c)"
   ]
  },
  {
   "cell_type": "markdown",
   "metadata": {},
   "source": [
    "The equivalent code in TensorFlow consists of two steps:\n",
    "<p>\n",
    "<h3> Step 1: Build the graph </h3>"
   ]
  },
  {
   "cell_type": "code",
   "execution_count": null,
   "metadata": {},
   "outputs": [],
   "source": [
    "a = tf.constant([5, 3, 8])\n",
    "b = tf.constant([3, -1, 2])\n",
    "c = tf.add(a, b)\n",
    "print(c)"
   ]
  },
  {
   "cell_type": "markdown",
   "metadata": {},
   "source": [
    "c is an Op (\"Add\") that returns a tensor of shape (3,) and holds int32. The shape is inferred from the computation graph.\n",
    "\n",
    "Try the following in the cell above:\n",
    "<ol>\n",
    "<li> Change the 5 to 5.0, and similarly the other five numbers. What happens when you run this cell? </li>\n",
    "<li> Add an extra number to a, but leave b at the original (3,) shape. What happens when you run this cell? </li>\n",
    "<li> Change the code back to a version that works </li>\n",
    "</ol>\n",
    "\n",
    "<p/>\n",
    "<h3> Step 2: Run the graph"
   ]
  },
  {
   "cell_type": "code",
   "execution_count": null,
   "metadata": {},
   "outputs": [],
   "source": [
    "with tf.Session() as sess:\n",
    "  result = sess.run(c)\n",
    "  print(result)"
   ]
  },
  {
   "cell_type": "markdown",
   "metadata": {},
   "source": [
    "<h2> Using a feed_dict </h2>\n",
    "\n",
    "Same graph, but without hardcoding inputs at build stage"
   ]
  },
  {
   "cell_type": "code",
   "execution_count": null,
   "metadata": {},
   "outputs": [],
   "source": [
    "a = tf.placeholder(dtype=tf.int32, shape=(None,))  # batchsize x scalar\n",
    "b = tf.placeholder(dtype=tf.int32, shape=(None,))\n",
    "c = tf.add(a, b)\n",
    "with tf.Session() as sess:\n",
    "  result = sess.run(c, feed_dict={\n",
    "      a: [3, 4, 5],\n",
    "      b: [-1, 2, 3]\n",
    "    })\n",
    "  print(result)"
   ]
  },
  {
   "cell_type": "markdown",
   "metadata": {},
   "source": [
    "<h2> Heron's Formula in TensorFlow </h2>\n",
    "\n",
    "The area of triangle whose three sides are $(a, b, c)$ is $\\sqrt{s(s-a)(s-b)(s-c)}$ where $s=\\frac{a+b+c}{2}$ \n",
    "\n",
    "Look up the available operations at https://www.tensorflow.org/api_docs/python/tf"
   ]
  },
  {
   "cell_type": "code",
   "execution_count": null,
   "metadata": {},
   "outputs": [],
   "source": [
    "def compute_area(sides):\n",
    "  # slice the input to get the sides\n",
    "  a = sides[:,0]  # 5.0, 2.3\n",
    "  b = sides[:,1]  # 3.0, 4.1\n",
    "  c = sides[:,2]  # 7.1, 4.8\n",
    "  \n",
    "  # Heron's formula\n",
    "  s = (a + b + c) * 0.5   # (a + b) is a short-cut to tf.add(a, b)\n",
    "  areasq = s * (s - a) * (s - b) * (s - c) # (a * b) is a short-cut to tf.multiply(a, b), not tf.matmul(a, b)\n",
    "  return tf.sqrt(areasq)\n",
    "\n",
    "with tf.Session() as sess:\n",
    "  # pass in two triangles\n",
    "  area = compute_area(tf.constant([\n",
    "      [5.0, 3.0, 7.1],\n",
    "      [2.3, 4.1, 4.8]\n",
    "    ]))\n",
    "  result = sess.run(area)\n",
    "  print(result)"
   ]
  },
  {
   "cell_type": "markdown",
   "metadata": {},
   "source": [
    "<h2> Placeholder and feed_dict </h2>\n",
    "\n",
    "More common is to define the input to a program as a placeholder and then to feed in the inputs. The difference between the code below and the code above is whether the \"area\" graph is coded up with the input values or whether the \"area\" graph is coded up with a placeholder through which inputs will be passed in at run-time."
   ]
  },
  {
   "cell_type": "code",
   "execution_count": null,
   "metadata": {},
   "outputs": [],
   "source": [
    "with tf.Session() as sess:\n",
    "  sides = tf.placeholder(tf.float32, shape=(None, 3))  # batchsize number of triangles, 3 sides\n",
    "  area = compute_area(sides)\n",
    "  result = sess.run(area, feed_dict = {\n",
    "      sides: [\n",
    "        [5.0, 3.0, 7.1],\n",
    "        [2.3, 4.1, 4.8]\n",
    "      ]\n",
    "    })\n",
    "  print(result)"
   ]
  },
  {
   "cell_type": "markdown",
   "metadata": {},
   "source": [
    "## tf.eager\n",
    "\n",
    "tf.eager allows you to avoid the build-then-run stages. However, most production code will follow the lazy evaluation paradigm because the lazy evaluation paradigm is what allows for multi-device support and distribution. \n",
    "<p>\n",
    "One thing you could do is to develop using tf.eager and then comment out the eager execution and add in the session management code.\n",
    "\n",
    "<b>You may need to click on Reset Session to try this out.</b>"
   ]
  },
  {
   "cell_type": "code",
   "execution_count": null,
   "metadata": {},
   "outputs": [],
   "source": [
    "import tensorflow as tf\n",
    "\n",
    "tf.enable_eager_execution()\n",
    "\n",
    "def compute_area(sides):\n",
    "  # slice the input to get the sides\n",
    "  a = sides[:,0]  # 5.0, 2.3\n",
    "  b = sides[:,1]  # 3.0, 4.1\n",
    "  c = sides[:,2]  # 7.1, 4.8\n",
    "  \n",
    "  # Heron's formula\n",
    "  s = (a + b + c) * 0.5   # (a + b) is a short-cut to tf.add(a, b)\n",
    "  areasq = s * (s - a) * (s - b) * (s - c) # (a * b) is a short-cut to tf.multiply(a, b), not tf.matmul(a, b)\n",
    "  return tf.sqrt(areasq)\n",
    "\n",
    "area = compute_area(tf.constant([\n",
    "      [5.0, 3.0, 7.1],\n",
    "      [2.3, 4.1, 4.8]\n",
    "    ]))\n",
    "\n",
    "\n",
    "print(area)"
   ]
  },
  {
   "cell_type": "markdown",
   "metadata": {},
   "source": [
    "## Challenge Exercise\n",
    "\n",
    "Use TensorFlow to find the roots of a fourth-degree polynomial using [Halley's Method](https://en.wikipedia.org/wiki/Halley%27s_method).  The five coefficients (i.e. $a_0$ to $a_4$) of \n",
    "<p>\n",
    "$f(x) = a_0 + a_1 x + a_2 x^2 + a_3 x^3 + a_4 x^4$\n",
    "<p>\n",
    "will be fed into the program, as will the initial guess $x_0$. Your program will start from that initial guess and then iterate one step using the formula:\n",
    "<img src=\"https://wikimedia.org/api/rest_v1/media/math/render/svg/142614c0378a1d61cb623c1352bf85b6b7bc4397\" />\n",
    "<p>\n",
    "If you got the above easily, try iterating indefinitely until the change between $x_n$ and $x_{n+1}$ is less than some specified tolerance. Hint: Use [tf.while_loop](https://www.tensorflow.org/api_docs/python/tf/while_loop)"
   ]
  },
  {
   "cell_type": "code",
   "execution_count": 24,
   "metadata": {},
   "outputs": [
    {
     "name": "stdout",
     "output_type": "stream",
     "text": [
      "(0.9252058, array([1., 2., 3., 4., 5.], dtype=float32))\n"
     ]
    }
   ],
   "source": [
    "\"\"\"Halley's method for solving f(x) = 0\n",
    "\n",
    "http://en.wikipedia.org/wiki/Halley%27s_method\n",
    "http://code.activestate.com/recipes/577472-halleys-method-for-solving-equations/\n",
    "https://en.wikipedia.org/wiki/Numerical_differentiation#Practical_considerations_using_floating_point_arithmetic\n",
    "\n",
    "\"\"\"\n",
    "\n",
    "import numpy as np\n",
    "import tensorflow as tf\n",
    "\n",
    "# tf.enable_eager_execution()\n",
    "tf.logging.set_verbosity(tf.logging.DEBUG)\n",
    "\n",
    "\n",
    "def f(x, a):\n",
    "    \"\"\"f(x) to solve. Assumes a 1D tensor of coefficients. E.g.\n",
    "    [1.0, 2.0, 3.0] returns 1.0 + (2.0 * x) + (3.0 * (x ** 2))\n",
    "    \"\"\"\n",
    "    result = 0\n",
    "    \n",
    "    for n in range(a.get_shape()[0]):\n",
    "        result += a[n] * x ** n\n",
    "\n",
    "    return result\n",
    "\n",
    "\n",
    "def fp(x, a, k):\n",
    "    \"\"\"general numerical derivative functions\n",
    "    \"\"\"\n",
    "    global h\n",
    "    \n",
    "    if k == 0:\n",
    "        return f(x, a)\n",
    "    else:\n",
    "        return (fp(x + h, a, k - 1) - fp(x, a, k - 1)) / h\n",
    "\n",
    "\n",
    "def xnew(x, a):\n",
    "    \"\"\"Calculate a new guess based on the previous value of x.\n",
    "    \"\"\"\n",
    "    fx = f(x, a)\n",
    "    fpx = fp(x, a, 1)\n",
    "    \n",
    "    xnew = (x - (2.0 * fx * fpx) / (2.0 * fpx * fpx - fx * fp(x, a, 2)), a)\n",
    "    tf.print(xnew)\n",
    "    \n",
    "    return xnew\n",
    "    \n",
    "    \n",
    "def condition(prev_x, a):\n",
    "    \"\"\"Returns True until the global variable eps is reached\n",
    "    \"\"\"\n",
    "    global eps\n",
    "    \n",
    "    new_x, _ = xnew(prev_x, a)\n",
    "    \n",
    "    return abs(new_x - prev_x) > eps\n",
    "\n",
    "    \n",
    "global h\n",
    "h = tf.constant(0.000001)  # Adjust h if xnew = nan\n",
    "\n",
    "global eps\n",
    "eps = tf.constant(0.1)  # tolerance\n",
    "\n",
    "a = tf.constant([1.0, 2.0, 3.0, 4.0, 5.0])  # coefficients of f(x)\n",
    "x = tf.constant(2.0)  # initial guess\n",
    "\n",
    "result = tf.while_loop(\n",
    "    cond=condition,\n",
    "    body=xnew,\n",
    "    loop_vars=(x, a))\n",
    "\n",
    "with tf.Session() as sess:\n",
    "    print(sess.run(result))\n",
    "\n",
    "# n = 10000\n",
    "# x = tf.constant(list(range(n)))\n",
    "# condition = lambda xnew, x, eps: abs(xnew - x) > eps\n",
    "# i, out = tf.while_loop(condition, b, (0, x))\n",
    "# with tf.Session() as sess:\n",
    "#     print(sess.run(i))  # prints [0] ... [9999]"
   ]
  },
  {
   "cell_type": "code",
   "execution_count": 25,
   "metadata": {},
   "outputs": [
    {
     "name": "stdout",
     "output_type": "stream",
     "text": [
      "WARNING:tensorflow:From halleys_method.py:47: Print (from tensorflow.python.ops.logging_ops) is deprecated and will be removed after 2018-08-20.\n",
      "Instructions for updating:\n",
      "Use tf.print instead of tf.Print. Note that tf.print returns a no-output operator that directly prints the output. Outside of defuns or eager mode, this operator will not be executed unless it is directly specified in session.run or used as a control dependency for other operators. This is only a concern in graph mode. Below is an example of how to ensure tf.print executes in graph mode:\n",
      "```python\n",
      "    sess = tf.Session()\n",
      "    with sess.as_default():\n",
      "        tensor = tf.range(10)\n",
      "        print_op = tf.print(tensor)\n",
      "        with tf.control_dependencies([print_op]):\n",
      "          out = tf.add(tensor, tensor)\n",
      "        sess.run(out)\n",
      "    ```\n",
      "Additionally, to use tf.print in python 2.7, users must make sure to import\n",
      "the following:\n",
      "\n",
      "  `from __future__ import print_function`\n",
      "\n",
      "Traceback (most recent call last):\n",
      "  File \"/Users/harmtemolder/miniconda3/envs/jupyter/lib/python3.6/site-packages/tensorflow/python/framework/ops.py\", line 1628, in _create_c_op\n",
      "    c_op = c_api.TF_FinishOperation(op_desc)\n",
      "tensorflow.python.framework.errors_impl.InvalidArgumentError: Shapes must be equal rank, but are 0 and 1\n",
      "\tFrom merging shape 0 with other shapes. for 'while/Print/input' (op: 'Pack') with input shapes: [], [5].\n",
      "\n",
      "During handling of the above exception, another exception occurred:\n",
      "\n",
      "Traceback (most recent call last):\n",
      "  File \"/Users/harmtemolder/miniconda3/envs/jupyter/lib/python3.6/site-packages/tensorflow/python/framework/op_def_library.py\", line 510, in _apply_op_helper\n",
      "    preferred_dtype=default_dtype)\n",
      "  File \"/Users/harmtemolder/miniconda3/envs/jupyter/lib/python3.6/site-packages/tensorflow/python/framework/ops.py\", line 1146, in internal_convert_to_tensor\n",
      "    ret = conversion_func(value, dtype=dtype, name=name, as_ref=as_ref)\n",
      "  File \"/Users/harmtemolder/miniconda3/envs/jupyter/lib/python3.6/site-packages/tensorflow/python/ops/array_ops.py\", line 971, in _autopacking_conversion_function\n",
      "    return _autopacking_helper(v, dtype, name or \"packed\")\n",
      "  File \"/Users/harmtemolder/miniconda3/envs/jupyter/lib/python3.6/site-packages/tensorflow/python/ops/array_ops.py\", line 923, in _autopacking_helper\n",
      "    return gen_array_ops.pack(elems_as_tensors, name=scope)\n",
      "  File \"/Users/harmtemolder/miniconda3/envs/jupyter/lib/python3.6/site-packages/tensorflow/python/ops/gen_array_ops.py\", line 4875, in pack\n",
      "    \"Pack\", values=values, axis=axis, name=name)\n",
      "  File \"/Users/harmtemolder/miniconda3/envs/jupyter/lib/python3.6/site-packages/tensorflow/python/framework/op_def_library.py\", line 787, in _apply_op_helper\n",
      "    op_def=op_def)\n",
      "  File \"/Users/harmtemolder/miniconda3/envs/jupyter/lib/python3.6/site-packages/tensorflow/python/util/deprecation.py\", line 488, in new_func\n",
      "    return func(*args, **kwargs)\n",
      "  File \"/Users/harmtemolder/miniconda3/envs/jupyter/lib/python3.6/site-packages/tensorflow/python/framework/ops.py\", line 3274, in create_op\n",
      "    op_def=op_def)\n",
      "  File \"/Users/harmtemolder/miniconda3/envs/jupyter/lib/python3.6/site-packages/tensorflow/python/framework/ops.py\", line 1792, in __init__\n",
      "    control_input_ops)\n",
      "  File \"/Users/harmtemolder/miniconda3/envs/jupyter/lib/python3.6/site-packages/tensorflow/python/framework/ops.py\", line 1631, in _create_c_op\n",
      "    raise ValueError(str(e))\n",
      "ValueError: Shapes must be equal rank, but are 0 and 1\n",
      "\tFrom merging shape 0 with other shapes. for 'while/Print/input' (op: 'Pack') with input shapes: [], [5].\n",
      "\n",
      "During handling of the above exception, another exception occurred:\n",
      "\n",
      "Traceback (most recent call last):\n",
      "  File \"/Users/harmtemolder/miniconda3/envs/jupyter/lib/python3.6/site-packages/tensorflow/python/framework/ops.py\", line 1628, in _create_c_op\n",
      "    c_op = c_api.TF_FinishOperation(op_desc)\n",
      "tensorflow.python.framework.errors_impl.InvalidArgumentError: Shapes must be equal rank, but are 0 and 1\n",
      "\tFrom merging shape 0 with other shapes. for 'while/Print/packed' (op: 'Pack') with input shapes: [], [5].\n",
      "\n",
      "During handling of the above exception, another exception occurred:\n",
      "\n",
      "Traceback (most recent call last):\n",
      "  File \"/Users/harmtemolder/miniconda3/envs/jupyter/lib/python3.6/site-packages/tensorflow/python/framework/op_def_library.py\", line 524, in _apply_op_helper\n",
      "    values, as_ref=input_arg.is_ref).dtype.name\n",
      "  File \"/Users/harmtemolder/miniconda3/envs/jupyter/lib/python3.6/site-packages/tensorflow/python/framework/ops.py\", line 1146, in internal_convert_to_tensor\n",
      "    ret = conversion_func(value, dtype=dtype, name=name, as_ref=as_ref)\n",
      "  File \"/Users/harmtemolder/miniconda3/envs/jupyter/lib/python3.6/site-packages/tensorflow/python/ops/array_ops.py\", line 971, in _autopacking_conversion_function\n",
      "    return _autopacking_helper(v, dtype, name or \"packed\")\n",
      "  File \"/Users/harmtemolder/miniconda3/envs/jupyter/lib/python3.6/site-packages/tensorflow/python/ops/array_ops.py\", line 923, in _autopacking_helper\n",
      "    return gen_array_ops.pack(elems_as_tensors, name=scope)\n",
      "  File \"/Users/harmtemolder/miniconda3/envs/jupyter/lib/python3.6/site-packages/tensorflow/python/ops/gen_array_ops.py\", line 4875, in pack\n",
      "    \"Pack\", values=values, axis=axis, name=name)\n",
      "  File \"/Users/harmtemolder/miniconda3/envs/jupyter/lib/python3.6/site-packages/tensorflow/python/framework/op_def_library.py\", line 787, in _apply_op_helper\n",
      "    op_def=op_def)\n",
      "  File \"/Users/harmtemolder/miniconda3/envs/jupyter/lib/python3.6/site-packages/tensorflow/python/util/deprecation.py\", line 488, in new_func\n",
      "    return func(*args, **kwargs)\n",
      "  File \"/Users/harmtemolder/miniconda3/envs/jupyter/lib/python3.6/site-packages/tensorflow/python/framework/ops.py\", line 3274, in create_op\n",
      "    op_def=op_def)\n",
      "  File \"/Users/harmtemolder/miniconda3/envs/jupyter/lib/python3.6/site-packages/tensorflow/python/framework/ops.py\", line 1792, in __init__\n",
      "    control_input_ops)\n",
      "  File \"/Users/harmtemolder/miniconda3/envs/jupyter/lib/python3.6/site-packages/tensorflow/python/framework/ops.py\", line 1631, in _create_c_op\n",
      "    raise ValueError(str(e))\n",
      "ValueError: Shapes must be equal rank, but are 0 and 1\n",
      "\tFrom merging shape 0 with other shapes. for 'while/Print/packed' (op: 'Pack') with input shapes: [], [5].\n",
      "\n",
      "During handling of the above exception, another exception occurred:\n",
      "\n",
      "Traceback (most recent call last):\n",
      "  File \"halleys_method.py\", line 75, in <module>\n",
      "    loop_vars=(x, a))\n",
      "  File \"/Users/harmtemolder/miniconda3/envs/jupyter/lib/python3.6/site-packages/tensorflow/python/ops/control_flow_ops.py\", line 3291, in while_loop\n",
      "    return_same_structure)\n",
      "  File \"/Users/harmtemolder/miniconda3/envs/jupyter/lib/python3.6/site-packages/tensorflow/python/ops/control_flow_ops.py\", line 3004, in BuildLoop\n",
      "    pred, body, original_loop_vars, loop_vars, shape_invariants)\n",
      "  File \"/Users/harmtemolder/miniconda3/envs/jupyter/lib/python3.6/site-packages/tensorflow/python/ops/control_flow_ops.py\", line 2924, in _BuildLoop\n",
      "    c = ops.convert_to_tensor(pred(*packed_vars))\n",
      "  File \"halleys_method.py\", line 58, in condition\n",
      "    new_x, _ = xnew(prev_x, a)\n",
      "  File \"halleys_method.py\", line 47, in xnew\n",
      "    tf.Print(xnew, [x, a])\n",
      "  File \"/Users/harmtemolder/miniconda3/envs/jupyter/lib/python3.6/site-packages/tensorflow/python/util/deprecation.py\", line 306, in new_func\n",
      "    return func(*args, **kwargs)\n",
      "  File \"/Users/harmtemolder/miniconda3/envs/jupyter/lib/python3.6/site-packages/tensorflow/python/ops/logging_ops.py\", line 104, in Print\n",
      "    return gen_logging_ops._print(input_, data, message, first_n, summarize, name)\n",
      "  File \"/Users/harmtemolder/miniconda3/envs/jupyter/lib/python3.6/site-packages/tensorflow/python/ops/gen_logging_ops.py\", line 549, in _print\n",
      "    summarize=summarize, name=name)\n",
      "  File \"/Users/harmtemolder/miniconda3/envs/jupyter/lib/python3.6/site-packages/tensorflow/python/framework/op_def_library.py\", line 528, in _apply_op_helper\n",
      "    (input_name, err))\n",
      "ValueError: Tried to convert 'input' to a tensor and failed. Error: Shapes must be equal rank, but are 0 and 1\n",
      "\tFrom merging shape 0 with other shapes. for 'while/Print/packed' (op: 'Pack') with input shapes: [], [5].\n"
     ]
    }
   ],
   "source": [
    "!python halleys_method.py"
   ]
  },
  {
   "cell_type": "markdown",
   "metadata": {},
   "source": [
    "Copyright 2017 Google Inc. Licensed under the Apache License, Version 2.0 (the \"License\"); you may not use this file except in compliance with the License. You may obtain a copy of the License at http://www.apache.org/licenses/LICENSE-2.0 Unless required by applicable law or agreed to in writing, software distributed under the License is distributed on an \"AS IS\" BASIS, WITHOUT WARRANTIES OR CONDITIONS OF ANY KIND, either express or implied. See the License for the specific language governing permissions and limitations under the License"
   ]
  }
 ],
 "metadata": {
  "kernelspec": {
   "display_name": "jupyter",
   "language": "python",
   "name": "jupyter"
  },
  "language_info": {
   "codemirror_mode": {
    "name": "ipython",
    "version": 3
   },
   "file_extension": ".py",
   "mimetype": "text/x-python",
   "name": "python",
   "nbconvert_exporter": "python",
   "pygments_lexer": "ipython3",
   "version": "3.6.8"
  }
 },
 "nbformat": 4,
 "nbformat_minor": 2
}
